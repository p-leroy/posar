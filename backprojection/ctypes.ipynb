{
 "cells": [
  {
   "cell_type": "code",
   "execution_count": 2,
   "metadata": {},
   "outputs": [
    {
     "name": "stdout",
     "output_type": "stream",
     "text": [
      "The autoreload extension is already loaded. To reload it, use:\n",
      "  %reload_ext autoreload\n"
     ]
    }
   ],
   "source": [
    "import numpy as np\n",
    "import scipy.signal as signal\n",
    "import matplotlib.pyplot as plt\n",
    "%matplotlib qt5\n",
    "\n",
    "import time\n",
    "\n",
    "%load_ext autoreload\n",
    "%autoreload 2"
   ]
  },
  {
   "cell_type": "code",
   "execution_count": 3,
   "metadata": {},
   "outputs": [],
   "source": [
    "from loadbackprojection import *"
   ]
  },
  {
   "cell_type": "code",
   "execution_count": 4,
   "metadata": {},
   "outputs": [],
   "source": [
    "libraryFilename = \"ccpp/libbackprojection/liblibbackprojection.so\""
   ]
  },
  {
   "cell_type": "code",
   "execution_count": 5,
   "metadata": {},
   "outputs": [],
   "source": [
    "lib = LibBackProjection( libraryFilename )"
   ]
  },
  {
   "cell_type": "markdown",
   "metadata": {},
   "source": [
    "# Backprojection"
   ]
  },
  {
   "cell_type": "markdown",
   "metadata": {},
   "source": [
    "## Load the analytic signal"
   ]
  },
  {
   "cell_type": "code",
   "execution_count": null,
   "metadata": {},
   "outputs": [],
   "source": [
    "data_dir = \"/home/pleroy/DATA/SIMU\"\n",
    "analyticSignal = np.load( data_dir + \"/analyticSignal_0_19.npy\" )\n",
    "print( \"analyticSignal.shape = {}\".format(analyticSignal.shape) )"
   ]
  },
  {
   "cell_type": "markdown",
   "metadata": {},
   "source": [
    "## Range focalization"
   ]
  },
  {
   "cell_type": "code",
   "execution_count": null,
   "metadata": {},
   "outputs": [],
   "source": [
    "srf = np.fft.ifft( analyticSignal, axis=1 )\n",
    "print( \"srf.shape = {}\".format(srf.shape) )"
   ]
  },
  {
   "cell_type": "markdown",
   "metadata": {},
   "source": [
    "## Image geometry"
   ]
  },
  {
   "cell_type": "code",
   "execution_count": null,
   "metadata": {},
   "outputs": [],
   "source": [
    "x_min = 200\n",
    "x_max = 500\n",
    "r_min = 80\n",
    "r_max = 120\n",
    "\n",
    "#extent=[horizontal_min,horizontal_max,vertical_min,vertical_max]\n",
    "extent=[r_min,r_max,x_max,x_min]\n",
    "\n",
    "d_x = 1.\n",
    "d_r = 1.\n",
    "\n",
    "x = np.arange( x_min, x_max, d_x )\n",
    "x = x.reshape( x.size )\n",
    "r = np.arange( r_min, r_max, d_r )\n",
    "r = r.reshape( r.size )"
   ]
  },
  {
   "cell_type": "markdown",
   "metadata": {},
   "source": [
    "## Azimuth focalization"
   ]
  },
  {
   "cell_type": "code",
   "execution_count": null,
   "metadata": {},
   "outputs": [],
   "source": [
    "B = 150e6\n",
    "c = 3e8\n",
    "nbFiles = 20\n",
    "# vehicule is plane\n",
    "T = 600e-6\n",
    "rampsPerFile = 1500\n",
    "V = 40"
   ]
  },
  {
   "cell_type": "code",
   "execution_count": null,
   "metadata": {},
   "outputs": [],
   "source": [
    "overSamplingRatio = 10\n",
    "Nf = srf.shape[1]\n",
    "Nover = overSamplingRatio * Nf\n",
    "rangeResolution = c / (2 * B)\n",
    "r_base = np.arange( Nf ) * rangeResolution\n",
    "r_over = np.arange( Nover ) * rangeResolution / overSamplingRatio\n",
    "print( \"range from {:.2f}m to {:.2f}m, resolution = {}m, oversampled = {}m, \".format(\n",
    "    r_over[0], r_over[-1], rangeResolution, rangeResolution / overSamplingRatio ) )"
   ]
  },
  {
   "cell_type": "code",
   "execution_count": null,
   "metadata": {},
   "outputs": [],
   "source": [
    "Naz = nbFiles * rampsPerFile\n",
    "xa_vec = np.arange( Naz ) * T * V\n",
    "\n",
    "print( \"x.shape = {}, r.shape = {}\".format( x.shape, r.shape ) )\n",
    "print( \"x from {} to {}, r from {} to {}\".format(x[0], x[-1], r[0], r[-1]) )\n",
    "\n",
    "phi = 6 * np.pi / 180\n",
    "\n",
    "nbLoops = xa_vec.shape[0]\n",
    "progress = int( nbLoops / 10 )"
   ]
  },
  {
   "cell_type": "markdown",
   "metadata": {},
   "source": [
    "### backProjectionOmp"
   ]
  },
  {
   "cell_type": "code",
   "execution_count": null,
   "metadata": {},
   "outputs": [],
   "source": [
    "t = time.time()\n",
    "\n",
    "img1  = np.zeros( (x.size, r.size), dtype=complex )\n",
    "print( \"img.shape = {}\".format( img1.shape ) )\n",
    "\n",
    "endK = Naz\n",
    "dr = r_over[1] - r_over[0]\n",
    "lib.so.backProjectionOmp( x, x.size,\n",
    "              r, r.size,\n",
    "              r_over, r_over.size, dr,\n",
    "              srf.reshape(srf.size), endK, Nf, # endK instead of Naz\n",
    "              xa_vec, img1.reshape(img1.size) )\n",
    "\n",
    "elapsed = time.time() - t\n",
    "print(\"execution time = \" + str(elapsed))"
   ]
  },
  {
   "cell_type": "markdown",
   "metadata": {},
   "source": [
    "### backProjection2"
   ]
  },
  {
   "cell_type": "code",
   "execution_count": null,
   "metadata": {},
   "outputs": [],
   "source": [
    "t = time.time()\n",
    "\n",
    "img2  = np.zeros( (x.size, r.size), dtype=complex )\n",
    "print( \"img.shape = {}\".format( img2.shape ) )\n",
    "\n",
    "endK = Naz\n",
    "dr = r_over[1] - r_over[0]\n",
    "lib.so.backProjection2( x, x.size,\n",
    "              r, r.size,\n",
    "              r_over, r_over.size, dr,\n",
    "              srf.reshape(srf.size), Naz, Nf, # endK or Naz\n",
    "              xa_vec, img2.reshape(img2.size) )\n",
    "\n",
    "elapsed = time.time() - t\n",
    "print(\"execution time = \" + str(elapsed))"
   ]
  },
  {
   "cell_type": "markdown",
   "metadata": {},
   "source": [
    "### backProjectionOmpGroundRange"
   ]
  },
  {
   "cell_type": "code",
   "execution_count": null,
   "metadata": {},
   "outputs": [],
   "source": [
    "lib.reload()"
   ]
  },
  {
   "cell_type": "code",
   "execution_count": null,
   "metadata": {},
   "outputs": [],
   "source": [
    "firstFile = 0\n",
    "nbFiles = 20\n",
    "lastFile = firstFile + nbFiles - 1\n",
    "# build positions for all ramps\n",
    "hPlane = 90\n",
    "xyz = np.zeros( ( nbFiles * rampsPerFile, 5 ) )\n",
    "xyz[ :, 2 ] = np.arange( 0, nbFiles * rampsPerFile ) * T * V\n",
    "xyz[ :, 3 ] = 0\n",
    "xyz[ :, 4 ] = hPlane"
   ]
  },
  {
   "cell_type": "code",
   "execution_count": null,
   "metadata": {},
   "outputs": [],
   "source": [
    "t = time.time()\n",
    "\n",
    "imgGroundRange  = np.zeros( (x.size, r.size), dtype=complex )\n",
    "print( \"img.shape = {}\".format( img2.shape ) )\n",
    "\n",
    "endK = Naz\n",
    "dr = r_over[1] - r_over[0]\n",
    "lib.so.backProjectionOmpGroundRange( x, x.size,\n",
    "              r, r.size,\n",
    "              r_over, r_over.size, dr,\n",
    "              srf.reshape(srf.size), Naz, Nf, # endK or Naz\n",
    "              xyz.reshape(xyz.size), imgGroundRange.reshape(imgGroundRange.size),\n",
    "                                   hPlane)\n",
    "\n",
    "elapsed = time.time() - t\n",
    "print(\"execution time = \" + str(elapsed))"
   ]
  },
  {
   "cell_type": "code",
   "execution_count": null,
   "metadata": {},
   "outputs": [],
   "source": [
    "#(2.2391811659142823e-05+1.1432034209496042e-05j)\n",
    "#(2.2391811659142823e-05+1.1432034209496042e-05j)\n",
    "img1[0,0], imgGroundRange[0,0]"
   ]
  },
  {
   "cell_type": "code",
   "execution_count": null,
   "metadata": {},
   "outputs": [],
   "source": [
    "plt.figure()\n",
    "plt.imshow( 20 * np.log10( np.abs( imgGroundRange ) ), cmap='jet', extent=extent )\n",
    "plt.grid()\n",
    "plt.colorbar(orientation=\"horizontal\")"
   ]
  },
  {
   "cell_type": "markdown",
   "metadata": {},
   "source": [
    "# Interpolation"
   ]
  },
  {
   "cell_type": "code",
   "execution_count": null,
   "metadata": {},
   "outputs": [],
   "source": [
    "Nx = 3000\n",
    "\n",
    "xp = np.linspace(-10*np.pi, 10*np.pi, Nx)\n",
    "dx = xp[1] - xp[0]\n",
    "fp = Nx * np.sin(xp) + 1j * np.arange(Nx)"
   ]
  },
  {
   "cell_type": "code",
   "execution_count": null,
   "metadata": {},
   "outputs": [],
   "source": [
    "x = np.linspace(-np.pi/10, np.pi/10, 100)\n",
    "y = np.zeros( x.shape, dtype=complex )\n",
    "idx = 0\n",
    "for val in x:\n",
    "    aux = mydll.interp( val, xp, fp, dx )\n",
    "    y[idx] = aux.real + aux.imag\n",
    "    idx += 1"
   ]
  },
  {
   "cell_type": "code",
   "execution_count": null,
   "metadata": {},
   "outputs": [],
   "source": [
    "x = 0.5\n",
    "y = mydll.interp( x, xp, fp, dx )"
   ]
  },
  {
   "cell_type": "code",
   "execution_count": null,
   "metadata": {},
   "outputs": [],
   "source": [
    "dx"
   ]
  },
  {
   "cell_type": "code",
   "execution_count": null,
   "metadata": {},
   "outputs": [],
   "source": [
    "y.real, y.imag"
   ]
  },
  {
   "cell_type": "code",
   "execution_count": null,
   "metadata": {},
   "outputs": [],
   "source": [
    "plt.figure()\n",
    "plt.subplot(211)\n",
    "plt.plot( xp, np.real(fp), '.-' )\n",
    "plt.plot( x, y.real, 'Dy' )\n",
    "plt.subplot(212)\n",
    "plt.plot( xp, np.imag(fp), '.-' )\n",
    "plt.plot( x, y.imag, 'Dy' )"
   ]
  },
  {
   "cell_type": "markdown",
   "metadata": {},
   "source": [
    "# Resampling"
   ]
  },
  {
   "cell_type": "markdown",
   "metadata": {},
   "source": [
    "## With ctypes"
   ]
  },
  {
   "cell_type": "code",
   "execution_count": 6,
   "metadata": {},
   "outputs": [],
   "source": [
    "Nx = 3000\n",
    "upSampling = 10\n",
    "Ny = Nx * upSampling\n",
    "\n",
    "teta = np.linspace(-10*np.pi, 10*np.pi, Nx)\n",
    "x = Nx * np.sin(teta) + 1j * np.arange(Nx)\n",
    "fftx = np.zeros( Nx, dtype=complex )\n",
    "y = np.zeros( Ny, dtype=complex )\n",
    "ffty = np.zeros( y.shape, dtype=complex )"
   ]
  },
  {
   "cell_type": "code",
   "execution_count": 7,
   "metadata": {},
   "outputs": [],
   "source": [
    "import timeit\n",
    "import time"
   ]
  },
  {
   "cell_type": "code",
   "execution_count": 8,
   "metadata": {},
   "outputs": [],
   "source": [
    "#%timeit signal.resample( x, Ny )"
   ]
  },
  {
   "cell_type": "code",
   "execution_count": 9,
   "metadata": {},
   "outputs": [],
   "source": [
    "lib.reload()"
   ]
  },
  {
   "cell_type": "code",
   "execution_count": 10,
   "metadata": {},
   "outputs": [
    {
     "data": {
      "text/plain": [
       "1500"
      ]
     },
     "execution_count": 10,
     "metadata": {},
     "output_type": "execute_result"
    }
   ],
   "source": [
    "#%timeit mydll.resample( x, fftx, Nx, y, ffty, Ny )\n",
    "lib.so.resample( x, fftx, Nx, y, ffty, Ny )"
   ]
  },
  {
   "cell_type": "code",
   "execution_count": 11,
   "metadata": {},
   "outputs": [
    {
     "data": {
      "text/plain": [
       "<matplotlib.legend.Legend at 0x7efc14041da0>"
      ]
     },
     "execution_count": 11,
     "metadata": {},
     "output_type": "execute_result"
    }
   ],
   "source": [
    "tx = np.arange(Nx)\n",
    "ty = np.arange(Ny)/upSampling\n",
    "\n",
    "plt.figure()\n",
    "\n",
    "plt.plot(tx, np.real(x), 'o-', label=\"x real\")\n",
    "plt.plot(tx, np.imag(x), 'o-', label=\"x imag\")\n",
    "plt.plot(tx, np.abs(x), 'o-',label=\"x abs\")\n",
    "\n",
    "plt.plot(ty, np.real(y), '.-', label=\"y real oversampled\")\n",
    "plt.plot(ty, np.imag(y), '.-', label=\"y imag oversampled\")\n",
    "plt.plot(ty, np.abs(y), '.-', label=\"y abs oversampled\")\n",
    "\n",
    "plt.legend()"
   ]
  },
  {
   "cell_type": "code",
   "execution_count": 12,
   "metadata": {},
   "outputs": [
    {
     "data": {
      "text/plain": [
       "[<matplotlib.lines.Line2D at 0x7efc241814e0>]"
      ]
     },
     "execution_count": 12,
     "metadata": {},
     "output_type": "execute_result"
    }
   ],
   "source": [
    "plt.figure()\n",
    "plt.plot( np.real(x) - np.real(y[::upSampling]) )\n",
    "plt.plot( np.imag(x) - np.imag(y[::upSampling]) )"
   ]
  },
  {
   "cell_type": "markdown",
   "metadata": {},
   "source": [
    "## Other resampling"
   ]
  },
  {
   "cell_type": "code",
   "execution_count": 18,
   "metadata": {},
   "outputs": [],
   "source": [
    "lib.reload()"
   ]
  },
  {
   "cell_type": "code",
   "execution_count": 19,
   "metadata": {},
   "outputs": [
    {
     "data": {
      "text/plain": [
       "1501"
      ]
     },
     "execution_count": 19,
     "metadata": {},
     "output_type": "execute_result"
    }
   ],
   "source": [
    "# compare resample4 (exact) with resample4b (vec_ind is not correct)\n",
    "fftx = np.fft.fft( x )\n",
    "lib.so.resample4b( fftx, Nx, y, ffty, Ny )"
   ]
  },
  {
   "cell_type": "code",
   "execution_count": 20,
   "metadata": {},
   "outputs": [
    {
     "data": {
      "text/plain": [
       "<matplotlib.legend.Legend at 0x7efc144869b0>"
      ]
     },
     "execution_count": 20,
     "metadata": {},
     "output_type": "execute_result"
    }
   ],
   "source": [
    "tx = np.arange(Nx)\n",
    "ty = np.arange(Ny)/upSampling\n",
    "\n",
    "plt.figure()\n",
    "\n",
    "plt.plot(tx, np.real(x), 'o-', label=\"x real\")\n",
    "plt.plot(tx, np.imag(x), 'o-', label=\"x imag\")\n",
    "plt.plot(tx, np.abs(x), 'o-',label=\"x abs\")\n",
    "\n",
    "plt.plot(ty, np.real(y), '.-', label=\"y real oversampled\")\n",
    "plt.plot(ty, np.imag(y), '.-', label=\"y imag oversampled\")\n",
    "plt.plot(ty, np.abs(y), '.-', label=\"y abs oversampled\")\n",
    "\n",
    "plt.legend()"
   ]
  },
  {
   "cell_type": "code",
   "execution_count": 21,
   "metadata": {},
   "outputs": [
    {
     "data": {
      "text/plain": [
       "[<matplotlib.lines.Line2D at 0x7efc00b5c198>]"
      ]
     },
     "execution_count": 21,
     "metadata": {},
     "output_type": "execute_result"
    }
   ],
   "source": [
    "plt.figure()\n",
    "plt.plot( np.real(x) - np.real(y[::upSampling]) )\n",
    "plt.plot( np.imag(x) - np.imag(y[::upSampling]) )"
   ]
  },
  {
   "cell_type": "markdown",
   "metadata": {},
   "source": [
    "## With numpy"
   ]
  },
  {
   "cell_type": "code",
   "execution_count": null,
   "metadata": {},
   "outputs": [],
   "source": [
    "nbPoints = 1000\n",
    "teta = np.linspace(-10*np.pi, 10*np.pi, nbPoints)\n",
    "a = nbPoints * np.sin(teta) + 1j * np.arange(nbPoints)"
   ]
  },
  {
   "cell_type": "code",
   "execution_count": null,
   "metadata": {},
   "outputs": [],
   "source": [
    "plt.figure()\n",
    "plt.plot(np.real(a), label=\"real\")\n",
    "plt.plot(np.imag(a), label=\"imag\")\n",
    "plt.plot(np.abs(a), label=\"abs\")\n",
    "plt.legend()"
   ]
  },
  {
   "cell_type": "code",
   "execution_count": null,
   "metadata": {},
   "outputs": [],
   "source": [
    "fft_a = np.fft.fft(a)\n",
    "upSampling = 4"
   ]
  },
  {
   "cell_type": "code",
   "execution_count": null,
   "metadata": {},
   "outputs": [],
   "source": [
    "fft_b = np.zeros(fft_a.shape[0]*upSampling, dtype=complex)\n",
    "nbPoints2 = int( nbPoints / 2 ) + nbPoints%2\n",
    "fft_b[0:nbPoints2] = fft_a[0:nbPoints2]\n",
    "fft_b[-nbPoints2:] = fft_a[-nbPoints2:]\n",
    "b = np.fft.ifft( fft_b ) * 4"
   ]
  },
  {
   "cell_type": "code",
   "execution_count": null,
   "metadata": {},
   "outputs": [],
   "source": [
    "ta = np.arange(nbPoints)\n",
    "tb = np.arange(nbPoints*upSampling)/upSampling\n",
    "\n",
    "plt.figure()\n",
    "\n",
    "plt.plot(tb, np.real(b), 'o', label=\"b real\")\n",
    "plt.plot(tb, np.imag(b), 'o', label=\"b imag\")\n",
    "plt.plot(tb, np.abs(b), 'o',label=\"b abs\")\n",
    "\n",
    "plt.plot(ta, np.real(a), '.-', label=\"a real\")\n",
    "plt.plot(ta, np.imag(a), '.-', label=\"a imag\")\n",
    "plt.plot(ta, np.abs(a), '.-', label=\"a abs\")\n",
    "\n",
    "plt.legend()"
   ]
  },
  {
   "cell_type": "code",
   "execution_count": null,
   "metadata": {},
   "outputs": [],
   "source": [
    "a = np.zeros(4)"
   ]
  },
  {
   "cell_type": "code",
   "execution_count": null,
   "metadata": {},
   "outputs": [],
   "source": [
    "a[0] = 0\n",
    "a[1] = 1\n",
    "a[2] = 0\n",
    "a[3] = 0"
   ]
  },
  {
   "cell_type": "code",
   "execution_count": null,
   "metadata": {},
   "outputs": [],
   "source": [
    "a"
   ]
  },
  {
   "cell_type": "code",
   "execution_count": null,
   "metadata": {},
   "outputs": [],
   "source": [
    "ffta = np.fft.fft(a)"
   ]
  },
  {
   "cell_type": "code",
   "execution_count": null,
   "metadata": {},
   "outputs": [],
   "source": [
    "ffta"
   ]
  },
  {
   "cell_type": "code",
   "execution_count": null,
   "metadata": {},
   "outputs": [],
   "source": [
    "plt.figure()\n",
    "plt.plot(np.angle(ffta))"
   ]
  },
  {
   "cell_type": "code",
   "execution_count": null,
   "metadata": {},
   "outputs": [],
   "source": []
  }
 ],
 "metadata": {
  "kernelspec": {
   "display_name": "Python 3",
   "language": "python",
   "name": "python3"
  },
  "language_info": {
   "codemirror_mode": {
    "name": "ipython",
    "version": 3
   },
   "file_extension": ".py",
   "mimetype": "text/x-python",
   "name": "python",
   "nbconvert_exporter": "python",
   "pygments_lexer": "ipython3",
   "version": "3.6.3"
  }
 },
 "nbformat": 4,
 "nbformat_minor": 2
}
