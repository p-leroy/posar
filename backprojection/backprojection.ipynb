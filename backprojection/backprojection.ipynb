{
 "cells": [
  {
   "cell_type": "code",
   "execution_count": 1,
   "metadata": {},
   "outputs": [],
   "source": [
    "import numpy as np\n",
    "import matplotlib.pyplot as plt\n",
    "import numexpr as ne\n",
    "import scipy.signal as signal\n",
    "import time\n",
    "from numba import jit\n",
    "%matplotlib qt5"
   ]
  },
  {
   "cell_type": "code",
   "execution_count": 2,
   "metadata": {},
   "outputs": [],
   "source": [
    "from tools import sb1, wa, pulse, pulse2"
   ]
  },
  {
   "cell_type": "markdown",
   "metadata": {},
   "source": [
    "# Backprojection"
   ]
  },
  {
   "cell_type": "markdown",
   "metadata": {},
   "source": [
    "## Load the analytic signal"
   ]
  },
  {
   "cell_type": "code",
   "execution_count": 4,
   "metadata": {},
   "outputs": [
    {
     "name": "stdout",
     "output_type": "stream",
     "text": [
      "analyticSignal.shape = (30000, 1500)\n"
     ]
    }
   ],
   "source": [
    "data_dir = \"/home/pleroy/DATA/SIMU\"\n",
    "analyticSignal = np.load( data_dir + \"/analyticSignal_0_19.npy\" )\n",
    "print( \"analyticSignal.shape = {}\".format(analyticSignal.shape) )"
   ]
  },
  {
   "cell_type": "markdown",
   "metadata": {},
   "source": [
    "## Range focalization"
   ]
  },
  {
   "cell_type": "code",
   "execution_count": 5,
   "metadata": {},
   "outputs": [
    {
     "name": "stdout",
     "output_type": "stream",
     "text": [
      "srf.shape = (30000, 1500)\n"
     ]
    }
   ],
   "source": [
    "srf = np.fft.ifft( analyticSignal, axis=1 )\n",
    "print( \"srf.shape = {}\".format(srf.shape) )"
   ]
  },
  {
   "cell_type": "markdown",
   "metadata": {},
   "source": [
    "# Image geometry"
   ]
  },
  {
   "cell_type": "code",
   "execution_count": 10,
   "metadata": {},
   "outputs": [],
   "source": [
    "x_min = 200\n",
    "x_max = 500\n",
    "r_min = 80\n",
    "r_max = 120\n",
    "\n",
    "#extent=[horizontal_min,horizontal_max,vertical_min,vertical_max]\n",
    "extent=[r_min,r_max,x_max,x_min]\n",
    "\n",
    "d_x = 1\n",
    "d_r = 1\n",
    "\n",
    "x = np.arange( x_min, x_max, d_x )\n",
    "x = x.reshape( x.size, 1 )\n",
    "r = np.arange( r_min, r_max, d_r )\n",
    "r = r.reshape( 1, r.size )"
   ]
  },
  {
   "cell_type": "markdown",
   "metadata": {},
   "source": [
    "## Azimuth focalization"
   ]
  },
  {
   "cell_type": "code",
   "execution_count": 16,
   "metadata": {},
   "outputs": [],
   "source": [
    "B = 150e6\n",
    "c = 3e8\n",
    "nbFiles = 20\n",
    "fc = 5.8e9\n",
    "kc = 4 * np.pi * fc / c\n",
    "# vehicule is plane\n",
    "T = 600e-6\n",
    "rampsPerFile = 1500\n",
    "V = 40"
   ]
  },
  {
   "cell_type": "code",
   "execution_count": 17,
   "metadata": {},
   "outputs": [
    {
     "name": "stdout",
     "output_type": "stream",
     "text": [
      "range from 0.00m to 1499.90m, resolution = 1.0m, oversampled = 0.1m, \n"
     ]
    }
   ],
   "source": [
    "overSamplingRatio = 10\n",
    "Nf = srf.shape[1]\n",
    "Nover = overSamplingRatio * Nf\n",
    "rangeResolution = c / (2 * B)\n",
    "r_base = np.arange( Nf ) * rangeResolution\n",
    "r_over = np.arange( Nover ) * rangeResolution / overSamplingRatio\n",
    "print( \"range from {:.2f}m to {:.2f}m, resolution = {}m, oversampled = {}m, \".format(\n",
    "    r_over[0], r_over[-1], rangeResolution, rangeResolution / overSamplingRatio ) )"
   ]
  },
  {
   "cell_type": "code",
   "execution_count": 18,
   "metadata": {},
   "outputs": [
    {
     "name": "stdout",
     "output_type": "stream",
     "text": [
      "x.shape = (300, 1), r.shape = (1, 40)\n",
      "x from 200 to 499, r from 80 to 119\n"
     ]
    }
   ],
   "source": [
    "Naz = nbFiles * rampsPerFile\n",
    "xa_vec = np.arange( Naz ) * T * V\n",
    "\n",
    "print( \"x.shape = {}, r.shape = {}\".format( x.shape, r.shape ) )\n",
    "print( \"x from {} to {}, r from {} to {}\".format(x[0,0], x[-1,0], r[0,0], r[0,-1]) )\n",
    "\n",
    "phi = 6 * np.pi / 180\n",
    "\n",
    "nbLoops = xa_vec.shape[0]\n",
    "progress = int( nbLoops / 10 )"
   ]
  },
  {
   "cell_type": "code",
   "execution_count": 20,
   "metadata": {},
   "outputs": [
    {
     "name": "stdout",
     "output_type": "stream",
     "text": [
      "img.shape = (300, 40)\n",
      "0.00 / 719.98\n",
      "72.00 / 719.98\n",
      "144.00 / 719.98\n",
      "216.00 / 719.98\n",
      "288.00 / 719.98\n",
      "360.00 / 719.98\n",
      "432.00 / 719.98\n",
      "504.00 / 719.98\n",
      "576.00 / 719.98\n",
      "648.00 / 719.98\n",
      "k = 29999   d = 373.60770947077623   aux1 = (0.5103052855040465+0.8599933229895647j)   aux2 = (-0.011301688611412562-0.006427530147536355j)\n",
      "   aux3 = 0   aux4 = -0j\n",
      "srf = 0.0000090742+0.0000337036j   srf = 0.0000097313+0.0000336945j\n",
      "y = 0.0000209429+0.0000402568j   y = 0.0000278229+0.0000534817j\n",
      "\n",
      "execution time = 87.38529777526855\n"
     ]
    }
   ],
   "source": [
    "t = time.time()\n",
    "\n",
    "img  = np.zeros( (x.size, r.size), dtype=complex )\n",
    "print( \"img.shape = {}\".format( img.shape ) )\n",
    "\n",
    "progress = int( xa_vec.size / 10 )\n",
    "\n",
    "loop = 0\n",
    "endK = xa_vec.size\n",
    "for k in range( endK ):\n",
    "    xa =xa_vec[k]\n",
    "    loop = k\n",
    "    if xa in xa_vec[::progress]:\n",
    "        print( \"{:.2f} / {:.2f}\".format(xa, xa_vec[-1] ) )\n",
    "\n",
    "    if k == endK-1:\n",
    "        d = (r[0,20]**2 + (xa-x[160,0])**2 )**0.5\n",
    "        aux1 = np.exp( 1j * kc * d )\n",
    "        y = signal.resample( srf[loop,:], Nover  )\n",
    "        aux2 = np.interp( d, r_over, signal.resample( srf[loop,:], Nover  ) )\n",
    "        aux3 = pulse2( (xa-x[160,0]) / (r[0,20]*np.tan(phi)) )\n",
    "        aux4 = aux1 * aux2 * aux3\n",
    "        print(\"k = {}   d = {}   aux1 = {}   aux2 = {}\\n   aux3 = {}   aux4 = {}\".format( k, d, aux1, aux2, aux3, aux4) )\n",
    "        print(\"srf = {:.10f}   srf = {:.10f}\\ny = {:.10f}   y = {:.10f}\\n\".format(srf[k, 0], srf[k, 1], y[1000], y[1001]))\n",
    "\n",
    "    img += np.exp( 1j * kc * (r**2 + (xa-x)**2 )**0.5 ) \\\n",
    "    * np.interp( (r**2 + (xa-x)**2 )**0.5, r_over, signal.resample( srf[loop,:], Nover  ) ) \\\n",
    "    * pulse( (xa-x) / (r*np.tan(phi)) )\n",
    "    \n",
    "    loop += 1\n",
    "# np.exp( -1j * kc * r)\n",
    "\n",
    "elapsed = time.time() - t\n",
    "print(\"execution time = \" + str(elapsed))"
   ]
  },
  {
   "cell_type": "code",
   "execution_count": 21,
   "metadata": {},
   "outputs": [
    {
     "data": {
      "text/plain": [
       "(2.2391811659142823e-05+1.1432034209496042e-05j)"
      ]
     },
     "execution_count": 21,
     "metadata": {},
     "output_type": "execute_result"
    }
   ],
   "source": [
    "img[0,0]"
   ]
  },
  {
   "cell_type": "code",
   "execution_count": null,
   "metadata": {},
   "outputs": [],
   "source": [
    "plt.figure()\n",
    "plt.imshow( 20 * np.log10( np.abs( img ) ), cmap='jet', extent=extent )\n",
    "plt.grid()\n",
    "plt.colorbar(orientation=\"horizontal\")"
   ]
  },
  {
   "cell_type": "markdown",
   "metadata": {},
   "source": [
    "# fft2d"
   ]
  },
  {
   "cell_type": "code",
   "execution_count": null,
   "metadata": {
    "collapsed": true
   },
   "outputs": [],
   "source": [
    "ifft_adc = np.fft.ifft( adc[::2,:], axis=1 )"
   ]
  },
  {
   "cell_type": "code",
   "execution_count": null,
   "metadata": {},
   "outputs": [],
   "source": [
    "plt.figure()\n",
    "plt.imshow(20*np.log10(np.abs(ifft_adc[::10, :])))\n",
    "plt.colorbar(orientation='horizontal')"
   ]
  },
  {
   "cell_type": "code",
   "execution_count": null,
   "metadata": {
    "collapsed": true
   },
   "outputs": [],
   "source": [
    "fft2d_adc = np.fft.fftshift( np.fft.fft( ifft_adc, axis=0 ), axes = 0 )"
   ]
  },
  {
   "cell_type": "code",
   "execution_count": null,
   "metadata": {},
   "outputs": [],
   "source": [
    "plt.figure()\n",
    "plt.imshow(20*np.log10(np.abs(fft2d_adc[::10, :])))\n",
    "plt.colorbar(orientation='horizontal')"
   ]
  },
  {
   "cell_type": "code",
   "execution_count": null,
   "metadata": {},
   "outputs": [],
   "source": [
    "plt.figure()\n",
    "plt.plot( 20 * np.log10(np.abs( fft2d_adc[:,50] )) )\n",
    "plt.plot( 20 * np.log10(np.abs( fft2d_adc[:,59] )) )"
   ]
  },
  {
   "cell_type": "markdown",
   "metadata": {},
   "source": [
    "### Resample"
   ]
  },
  {
   "cell_type": "code",
   "execution_count": 3,
   "metadata": {},
   "outputs": [
    {
     "ename": "NameError",
     "evalue": "name 'srf' is not defined",
     "output_type": "error",
     "traceback": [
      "\u001b[0;31m---------------------------------------------------------------------------\u001b[0m",
      "\u001b[0;31mNameError\u001b[0m                                 Traceback (most recent call last)",
      "\u001b[0;32m<ipython-input-3-4f3e2d704f2c>\u001b[0m in \u001b[0;36m<module>\u001b[0;34m()\u001b[0m\n\u001b[0;32m----> 1\u001b[0;31m \u001b[0mplt\u001b[0m\u001b[0;34m.\u001b[0m\u001b[0mimshow\u001b[0m\u001b[0;34m(\u001b[0m \u001b[0;36m20\u001b[0m \u001b[0;34m*\u001b[0m \u001b[0mnp\u001b[0m\u001b[0;34m.\u001b[0m\u001b[0mlog10\u001b[0m\u001b[0;34m(\u001b[0m \u001b[0mnp\u001b[0m\u001b[0;34m.\u001b[0m\u001b[0mabs\u001b[0m\u001b[0;34m(\u001b[0m \u001b[0msrf\u001b[0m\u001b[0;34m[\u001b[0m\u001b[0;34m:\u001b[0m\u001b[0;34m:\u001b[0m\u001b[0;36m10\u001b[0m\u001b[0;34m,\u001b[0m \u001b[0;34m:\u001b[0m\u001b[0;34m]\u001b[0m \u001b[0;34m)\u001b[0m \u001b[0;34m)\u001b[0m \u001b[0;34m)\u001b[0m\u001b[0;34m\u001b[0m\u001b[0m\n\u001b[0m",
      "\u001b[0;31mNameError\u001b[0m: name 'srf' is not defined"
     ]
    }
   ],
   "source": [
    "plt.imshow( 20 * np.log10( np.abs( srf[::10, :] ) ) )"
   ]
  },
  {
   "cell_type": "code",
   "execution_count": 4,
   "metadata": {},
   "outputs": [
    {
     "ename": "NameError",
     "evalue": "name 'srf' is not defined",
     "output_type": "error",
     "traceback": [
      "\u001b[0;31m---------------------------------------------------------------------------\u001b[0m",
      "\u001b[0;31mNameError\u001b[0m                                 Traceback (most recent call last)",
      "\u001b[0;32m<ipython-input-4-aa75373cbd6e>\u001b[0m in \u001b[0;36m<module>\u001b[0;34m()\u001b[0m\n\u001b[0;32m----> 1\u001b[0;31m \u001b[0mnbPointsResampled\u001b[0m \u001b[0;34m=\u001b[0m \u001b[0;36m4\u001b[0m \u001b[0;34m*\u001b[0m \u001b[0msrf\u001b[0m\u001b[0;34m.\u001b[0m\u001b[0mshape\u001b[0m\u001b[0;34m[\u001b[0m\u001b[0;36m1\u001b[0m\u001b[0;34m]\u001b[0m\u001b[0;34m\u001b[0m\u001b[0m\n\u001b[0m\u001b[1;32m      2\u001b[0m \u001b[0msrf_resampled\u001b[0m \u001b[0;34m=\u001b[0m \u001b[0msignal\u001b[0m\u001b[0;34m.\u001b[0m\u001b[0mresample\u001b[0m\u001b[0;34m(\u001b[0m \u001b[0msrf\u001b[0m\u001b[0;34m[\u001b[0m\u001b[0;36m0\u001b[0m\u001b[0;34m,\u001b[0m\u001b[0;34m:\u001b[0m\u001b[0;34m]\u001b[0m\u001b[0;34m,\u001b[0m \u001b[0mnbPointsResampled\u001b[0m  \u001b[0;34m)\u001b[0m\u001b[0;34m\u001b[0m\u001b[0m\n\u001b[1;32m      3\u001b[0m \u001b[0mprint\u001b[0m\u001b[0;34m(\u001b[0m \u001b[0;34m\"srf.shape = {}, srf_resamples.shape = {}\"\u001b[0m\u001b[0;34m.\u001b[0m\u001b[0mformat\u001b[0m\u001b[0;34m(\u001b[0m \u001b[0msrf\u001b[0m\u001b[0;34m.\u001b[0m\u001b[0mshape\u001b[0m\u001b[0;34m,\u001b[0m \u001b[0msrf_resampled\u001b[0m\u001b[0;34m.\u001b[0m\u001b[0mshape\u001b[0m \u001b[0;34m)\u001b[0m \u001b[0;34m)\u001b[0m\u001b[0;34m\u001b[0m\u001b[0m\n",
      "\u001b[0;31mNameError\u001b[0m: name 'srf' is not defined"
     ]
    }
   ],
   "source": [
    "nbPointsResampled = 4 * srf.shape[1]\n",
    "srf_resampled = signal.resample( srf[0,:], nbPointsResampled  )\n",
    "print( \"srf.shape = {}, srf_resamples.shape = {}\".format( srf.shape, srf_resampled.shape ) )"
   ]
  },
  {
   "cell_type": "code",
   "execution_count": 5,
   "metadata": {},
   "outputs": [
    {
     "ename": "NameError",
     "evalue": "name 'nbPointsResampled' is not defined",
     "output_type": "error",
     "traceback": [
      "\u001b[0;31m---------------------------------------------------------------------------\u001b[0m",
      "\u001b[0;31mNameError\u001b[0m                                 Traceback (most recent call last)",
      "\u001b[0;32m<ipython-input-5-1be309bb86e8>\u001b[0m in \u001b[0;36m<module>\u001b[0;34m()\u001b[0m\n\u001b[0;32m----> 1\u001b[0;31m \u001b[0mup_vec\u001b[0m  \u001b[0;34m=\u001b[0m \u001b[0mnp\u001b[0m\u001b[0;34m.\u001b[0m\u001b[0mzeros\u001b[0m\u001b[0;34m(\u001b[0m \u001b[0mnbPointsResampled\u001b[0m\u001b[0;34m,\u001b[0m \u001b[0mdtype\u001b[0m \u001b[0;34m=\u001b[0m \u001b[0mcomplex\u001b[0m \u001b[0;34m)\u001b[0m\u001b[0;34m\u001b[0m\u001b[0m\n\u001b[0m\u001b[1;32m      2\u001b[0m \u001b[0mvec_RD\u001b[0m  \u001b[0;34m=\u001b[0m \u001b[0mnp\u001b[0m\u001b[0;34m.\u001b[0m\u001b[0mzeros\u001b[0m\u001b[0;34m(\u001b[0m \u001b[0mnbPointsResampled\u001b[0m\u001b[0;34m,\u001b[0m \u001b[0mdtype\u001b[0m \u001b[0;34m=\u001b[0m \u001b[0mcomplex\u001b[0m  \u001b[0;34m)\u001b[0m\u001b[0;34m\u001b[0m\u001b[0m\n\u001b[1;32m      3\u001b[0m \u001b[0;34m\u001b[0m\u001b[0m\n\u001b[1;32m      4\u001b[0m \u001b[0mNf\u001b[0m \u001b[0;34m=\u001b[0m \u001b[0msrf\u001b[0m\u001b[0;34m.\u001b[0m\u001b[0mshape\u001b[0m\u001b[0;34m[\u001b[0m\u001b[0;36m1\u001b[0m\u001b[0;34m]\u001b[0m\u001b[0;34m\u001b[0m\u001b[0m\n\u001b[1;32m      5\u001b[0m \u001b[0;34m\u001b[0m\u001b[0m\n",
      "\u001b[0;31mNameError\u001b[0m: name 'nbPointsResampled' is not defined"
     ]
    }
   ],
   "source": [
    "up_vec  = np.zeros( nbPointsResampled, dtype = complex )\n",
    "vec_RD  = np.zeros( nbPointsResampled, dtype = complex  )\n",
    "\n",
    "Nf = srf.shape[1]\n",
    "\n",
    "vec_ind = int( np.ceil( ( Nf + 1 ) / 2 ) )\n",
    "\n",
    "pos = 0\n",
    "#upsample raw data\n",
    "vec_RD[ 0 : vec_ind ] = adc[ pos, 0 : vec_ind ]\n",
    "vec_RD[ - ( Nf - vec_ind ) : ] = adc[ pos, vec_ind : ]\n",
    "# vec_RD contains RD(pos,:) and zeros: up-sampling\n",
    "\n",
    "up_vec = np.fft.ifft( vec_RD ) # Transformation to time domain\n",
    "\n",
    "print( \"adc.shape = {}, vec_ind = {}, vec_RD.shape = {}\".format( adc.shape, vec_ind, vec_RD.shape ) )"
   ]
  },
  {
   "cell_type": "code",
   "execution_count": null,
   "metadata": {
    "collapsed": true
   },
   "outputs": [],
   "source": [
    "plt.figure()\n",
    "plt.subplot(211)\n",
    "plt.plot( np.arange( srf.shape[1] ), np.real( srf[0,:] ), 'go-' )\n",
    "plt.plot( np.arange( nbPointsResampled ) / 4, np.real( srf_resampled ), 'b.-' )\n",
    "plt.plot( np.arange( nbPointsResampled ) / 4, np.real( up_vec ) * 4, '.-', color=\"pink\" )\n",
    "ax = plt.gca()\n",
    "plt.subplot(212, sharex=ax)\n",
    "plt.plot( np.arange( srf.shape[1] ), np.imag( srf[0,:] ), 'go-' )\n",
    "plt.plot( np.arange( nbPointsResampled ) / 4, np.imag( srf_resampled ), 'b.-' )\n",
    "plt.plot( np.arange( nbPointsResampled ) / 4, np.imag( up_vec ) * 4, '.-', color=\"pink\" )"
   ]
  },
  {
   "cell_type": "code",
   "execution_count": null,
   "metadata": {
    "collapsed": true
   },
   "outputs": [],
   "source": []
  }
 ],
 "metadata": {
  "kernelspec": {
   "display_name": "Python 3",
   "language": "python",
   "name": "python3"
  },
  "language_info": {
   "codemirror_mode": {
    "name": "ipython",
    "version": 3
   },
   "file_extension": ".py",
   "mimetype": "text/x-python",
   "name": "python",
   "nbconvert_exporter": "python",
   "pygments_lexer": "ipython3",
   "version": "3.6.3"
  }
 },
 "nbformat": 4,
 "nbformat_minor": 2
}
