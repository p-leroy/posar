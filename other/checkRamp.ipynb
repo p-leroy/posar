{
 "cells": [
  {
   "cell_type": "code",
   "execution_count": 1,
   "metadata": {
    "collapsed": true
   },
   "outputs": [],
   "source": [
    "import numpy as np\n",
    "import matplotlib.pyplot as plt\n",
    "%matplotlib qt5"
   ]
  },
  {
   "cell_type": "code",
   "execution_count": 2,
   "metadata": {
    "collapsed": true
   },
   "outputs": [],
   "source": [
    "data_dir = \"/home/pleroy/DATA/2017_11_ietr/\"\n",
    "fname = data_dir + \"ramp 600us.csv\"\n",
    "t, v1, v2 = np.genfromtxt( fname, delimiter=',', skip_header=2, unpack=True )"
   ]
  },
  {
   "cell_type": "code",
   "execution_count": 3,
   "metadata": {},
   "outputs": [
    {
     "data": {
      "text/plain": [
       "<matplotlib.legend.Legend at 0x7f7cf1937b00>"
      ]
     },
     "execution_count": 3,
     "metadata": {},
     "output_type": "execute_result"
    }
   ],
   "source": [
    "plt.figure()\n",
    "plt.plot( t, v1, label=\"v1\" )\n",
    "plt.plot( t, v2, label=\"v2\" )\n",
    "plt.grid()\n",
    "plt.legend()"
   ]
  },
  {
   "cell_type": "code",
   "execution_count": 4,
   "metadata": {
    "collapsed": true
   },
   "outputs": [],
   "source": [
    "binFilename = data_dir + \"scope_2.bin\"\n",
    "#binFilename = data_dir + \"myFileName.bin\""
   ]
  },
  {
   "cell_type": "code",
   "execution_count": 5,
   "metadata": {},
   "outputs": [],
   "source": [
    "def importAgilentBin(inputFilename, waveform):\n",
    "    \n",
    "    with open(binFilename, 'r') as fileId:\n",
    "\n",
    "        # read file header\n",
    "        fileCookie = np.fromfile(fileId, 'int8', 2) # 65 71 => 'AG'\n",
    "        fileVersion = np.fromfile(fileId, 'int8', 2)\n",
    "        fileSize = np.fromfile(fileId, 'int32', 1)\n",
    "        nWaveforms = np.fromfile(fileId, 'int32', 1)[0]\n",
    "\n",
    "        print(\"fileCookie = {}, fileVersion = {}, fileSize = {}, nWaveforms = {}\".format( \n",
    "        fileCookie, fileVersion, fileSize, nWaveforms )\n",
    "         )\n",
    "\n",
    "        # determine which waveform to read\n",
    "        waveformSelect = waveform\n",
    "\n",
    "        for waveformIndex in range( nWaveforms ):\n",
    "            # read waveform header\n",
    "            headerSize = np.fromfile(fileId, 'int32', 1)[0]\n",
    "            bytesLeft = headerSize - 4\n",
    "    \n",
    "            waveformType = np.fromfile(fileId, 'int32', 1)\n",
    "            bytesLeft = bytesLeft - 4\n",
    "    \n",
    "            nWaveformBuffers = np.fromfile(fileId, 'int32', 1)[0]\n",
    "            bytesLeft = bytesLeft - 4\n",
    "    \n",
    "            nPoints = np.fromfile(fileId, 'int32', 1)[0]\n",
    "            bytesLeft = bytesLeft - 4\n",
    "    \n",
    "            count = np.fromfile(fileId, 'int32', 1)\n",
    "            bytesLeft = bytesLeft - 4\n",
    "    \n",
    "            xDisplayRange = np.fromfile(fileId, 'float32', 1)\n",
    "            bytesLeft = bytesLeft - 4\n",
    "    \n",
    "            xDisplayOrigin = np.fromfile(fileId, 'float64', 1)\n",
    "            bytesLeft = bytesLeft - 8\n",
    "    \n",
    "            xIncrement = np.fromfile(fileId, 'float64', 1)\n",
    "            bytesLeft = bytesLeft - 8\n",
    "    \n",
    "            xOrigin = np.fromfile(fileId, 'float64', 1)\n",
    "            bytesLeft = bytesLeft - 8\n",
    "    \n",
    "            xUnits = np.fromfile(fileId, 'int32', 1)\n",
    "            bytesLeft = bytesLeft - 4\n",
    "    \n",
    "            yUnits = np.fromfile(fileId, 'int32', 1)\n",
    "            bytesLeft = bytesLeft - 4\n",
    "    \n",
    "            dateString = np.fromfile(fileId, 'int8', 16)\n",
    "            bytesLeft = bytesLeft - 16\n",
    "    \n",
    "            timeString = np.fromfile(fileId, 'int8', 16)\n",
    "            bytesLeft = bytesLeft - 16\n",
    "    \n",
    "            frameString = np.fromfile(fileId, 'int8', 24)\n",
    "            bytesLeft = bytesLeft - 24\n",
    "    \n",
    "            waveformString = np.fromfile(fileId, 'int8', 16)\n",
    "            bytesLeft = bytesLeft - 16\n",
    "    \n",
    "            timeTag = np.fromfile(fileId, 'float64', 1)\n",
    "            bytesLeft = bytesLeft - 8\n",
    "    \n",
    "            segmentIndex = np.fromfile(fileId, 'uint32', 1)\n",
    "            bytesLeft = bytesLeft - 4\n",
    "\n",
    "            # skip over any remaining data in the header\n",
    "            np.fromfile(fileId, 'int8', bytesLeft)\n",
    "\n",
    "            print( \"waveformIndex {}, nWaveformBuffers = {}, nPoints = {}, count = {}\".format(\n",
    "                waveformIndex, nWaveformBuffers, nPoints, count)\n",
    "                 )\n",
    "            print( \"xIncrement {}, xOrigin {}\".format( xIncrement, xOrigin ) )\n",
    "    \n",
    "            # generate time vector from xIncrement and xOrigin values\n",
    "            #if (waveformIndex == waveformSelect):\n",
    "            #    timeVector = xIncrement * np.arange(nPoints) + xOrigin\n",
    "    \n",
    "            for bufferIndex in range(nWaveformBuffers):\n",
    "                # read waveform buffer header\n",
    "                headerSize = np.fromfile(fileId, 'int32', 1)[0]\n",
    "                bytesLeft = headerSize - 4\n",
    "        \n",
    "                bufferType = np.fromfile(fileId, 'int16', 1)\n",
    "                bytesLeft = bytesLeft - 2\n",
    "        \n",
    "                bytesPerPoint = np.fromfile(fileId, 'int16', 1)[0]\n",
    "                bytesLeft = bytesLeft - 2\n",
    "        \n",
    "                bufferSize = np.fromfile(fileId, 'int32', 1)[0]\n",
    "                bytesLeft = bytesLeft - 4\n",
    "\n",
    "                # skip over any remaining data in the header\n",
    "                np.fromfile(fileId, 'int8', bytesLeft)\n",
    "\n",
    "                print( \"bufferIndex {}, bytesPerPoint {}, bufferSize {}, bufferType {}\".format(\n",
    "                    bufferIndex, bytesPerPoint, bufferSize, bufferType) \n",
    "                     )\n",
    "        \n",
    "                if (waveformIndex == waveformSelect):\n",
    "                    if ((bufferType == 1) or (bufferType == 2) or (bufferType == 3)):\n",
    "                        # bufferType is PB_DATA_NORMAL, PB_DATA_MIN, or PB_DATA_MAX (float)\n",
    "                        voltageVector = np.fromfile(fileId, 'float32', nPoints)\n",
    "                    elif (bufferType == 4):\n",
    "                        # bufferType is PB_DATA_COUNTS (int32)\n",
    "                        voltageVector = np.fromfile(fileId, '*int32', nPoints)\n",
    "                    elif (bufferType == 5):\n",
    "                        # bufferType is PB_DATA_LOGIC (int8)\n",
    "                        voltageVector = np.fromfile(fileId, '*uint8', nPoints)\n",
    "                    else:\n",
    "                        # unrecognized bufferType read as unformated bytes\n",
    "                        voltageVector = np.fromfile(fileId, '*uint8', bufferSize)\n",
    "                else:\n",
    "                    np.fromfile(fileId, 'int8', bufferSize )\n",
    "\n",
    "        return voltageVector"
   ]
  },
  {
   "cell_type": "code",
   "execution_count": 6,
   "metadata": {},
   "outputs": [
    {
     "name": "stdout",
     "output_type": "stream",
     "text": [
      "fileCookie = [65 71], fileVersion = [49 48], fileSize = [16000316], nWaveforms = 2\n",
      "waveformIndex 0, nWaveformBuffers = 1, nPoints = 2000000, count = [1]\n",
      "xIncrement [  8.00000000e-10], xOrigin [-0.00074067]\n",
      "bufferIndex 0, bytesPerPoint 4, bufferSize 8000000, bufferType [1]\n",
      "waveformIndex 1, nWaveformBuffers = 1, nPoints = 2000000, count = [1]\n",
      "xIncrement [  8.00000000e-10], xOrigin [-0.00074067]\n",
      "bufferIndex 0, bytesPerPoint 4, bufferSize 8000000, bufferType [1]\n"
     ]
    }
   ],
   "source": [
    "voltage0 = importAgilentBin( binFilename, 0 )"
   ]
  },
  {
   "cell_type": "code",
   "execution_count": 7,
   "metadata": {},
   "outputs": [
    {
     "name": "stdout",
     "output_type": "stream",
     "text": [
      "fileCookie = [65 71], fileVersion = [49 48], fileSize = [16000316], nWaveforms = 2\n",
      "waveformIndex 0, nWaveformBuffers = 1, nPoints = 2000000, count = [1]\n",
      "xIncrement [  8.00000000e-10], xOrigin [-0.00074067]\n",
      "bufferIndex 0, bytesPerPoint 4, bufferSize 8000000, bufferType [1]\n",
      "waveformIndex 1, nWaveformBuffers = 1, nPoints = 2000000, count = [1]\n",
      "xIncrement [  8.00000000e-10], xOrigin [-0.00074067]\n",
      "bufferIndex 0, bytesPerPoint 4, bufferSize 8000000, bufferType [1]\n"
     ]
    }
   ],
   "source": [
    "voltage1 = importAgilentBin( binFilename, 1 )"
   ]
  },
  {
   "cell_type": "code",
   "execution_count": 9,
   "metadata": {},
   "outputs": [],
   "source": [
    "xIncrement = 8.00000000e-10\n",
    "xOrigin = -0.00074067\n",
    "nPoints = 2000000\n",
    "timeVector = np.arange( nPoints ) * xIncrement + xOrigin"
   ]
  },
  {
   "cell_type": "code",
   "execution_count": 10,
   "metadata": {},
   "outputs": [
    {
     "data": {
      "text/plain": [
       "<matplotlib.legend.Legend at 0x7f7d1fe24358>"
      ]
     },
     "execution_count": 10,
     "metadata": {},
     "output_type": "execute_result"
    }
   ],
   "source": [
    "plt.figure()\n",
    "plt.plot( timeVector * 1e6, voltage0, label=\"voltage0\" )\n",
    "plt.plot( timeVector * 1e6, voltage1, label=\"voltage1\" )\n",
    "plt.grid()\n",
    "plt.legend()"
   ]
  },
  {
   "cell_type": "code",
   "execution_count": 11,
   "metadata": {},
   "outputs": [
    {
     "data": {
      "text/plain": [
       "(2000000,)"
      ]
     },
     "execution_count": 11,
     "metadata": {},
     "output_type": "execute_result"
    }
   ],
   "source": [
    "timeVector.shape"
   ]
  },
  {
   "cell_type": "code",
   "execution_count": 20,
   "metadata": {
    "collapsed": true
   },
   "outputs": [],
   "source": [
    "def moving_average(a, n=3) :\n",
    "    ret = np.cumsum(a, dtype=float)\n",
    "    ret[n:] = ret[n:] - ret[:-n]\n",
    "    return ret[n - 1:] / n"
   ]
  },
  {
   "cell_type": "code",
   "execution_count": 24,
   "metadata": {},
   "outputs": [],
   "source": [
    "smoothed0 = moving_average( voltage0, 50 )"
   ]
  },
  {
   "cell_type": "code",
   "execution_count": 25,
   "metadata": {},
   "outputs": [
    {
     "data": {
      "text/plain": [
       "(1999951,)"
      ]
     },
     "execution_count": 25,
     "metadata": {},
     "output_type": "execute_result"
    }
   ],
   "source": [
    "smoothed0.shape"
   ]
  },
  {
   "cell_type": "code",
   "execution_count": 29,
   "metadata": {},
   "outputs": [],
   "source": [
    "plt.figure()\n",
    "plt.plot( moving_average( voltage0, 100 ), label=\"100\" )\n",
    "plt.legend()\n",
    "plt.grid()"
   ]
  },
  {
   "cell_type": "code",
   "execution_count": null,
   "metadata": {},
   "outputs": [],
   "source": [
    "plt.figure()\n",
    "plt.plot( timeVector * 1e6, voltage0, label=\"voltage0\" )\n",
    "plt.plot( timeVector * 1e6, smoothed0, label=\"voltage0 smoothed\" )\n",
    "plt.grid()\n",
    "plt.legend()"
   ]
  },
  {
   "cell_type": "code",
   "execution_count": null,
   "metadata": {
    "collapsed": true
   },
   "outputs": [],
   "source": []
  }
 ],
 "metadata": {
  "kernelspec": {
   "display_name": "Python 3",
   "language": "python",
   "name": "python3"
  },
  "language_info": {
   "codemirror_mode": {
    "name": "ipython",
    "version": 3
   },
   "file_extension": ".py",
   "mimetype": "text/x-python",
   "name": "python",
   "nbconvert_exporter": "python",
   "pygments_lexer": "ipython3",
   "version": "3.6.3"
  }
 },
 "nbformat": 4,
 "nbformat_minor": 2
}
