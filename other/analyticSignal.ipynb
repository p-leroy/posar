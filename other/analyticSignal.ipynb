{
 "cells": [
  {
   "cell_type": "code",
   "execution_count": 1,
   "metadata": {},
   "outputs": [],
   "source": [
    "import numpy as np\n",
    "import matplotlib.pyplot as plt\n",
    "import scipy.signal as signal\n",
    "%matplotlib qt5"
   ]
  },
  {
   "cell_type": "code",
   "execution_count": 2,
   "metadata": {},
   "outputs": [],
   "source": [
    "import sys"
   ]
  },
  {
   "cell_type": "code",
   "execution_count": 3,
   "metadata": {},
   "outputs": [],
   "source": [
    "%load_ext autoreload\n",
    "%autoreload 2"
   ]
  },
  {
   "cell_type": "code",
   "execution_count": 4,
   "metadata": {},
   "outputs": [],
   "source": [
    "sys.path.insert(0, \"/home/pleroy/DEV/processing/focalization_python\")\n",
    "from posarutils.other.read_data_and_build_rd import *"
   ]
  },
  {
   "cell_type": "markdown",
   "metadata": {},
   "source": [
    "# Analytic signal"
   ]
  },
  {
   "cell_type": "code",
   "execution_count": 29,
   "metadata": {},
   "outputs": [],
   "source": [
    "def RD_realtocomp2( RD ):\n",
    "\n",
    "    Nf  = RD.size\n",
    "\n",
    "    # if Nf is a multiple of 2, fftshift(fftshift(X)) = X\n",
    "    if ( ( Nf % 2 ) != 0 ):\n",
    "        error( \"Nf should be a multiple of 2\" )\n",
    "\n",
    "    h = np.zeros( Nf )\n",
    "    h[ 0 ] = 1\n",
    "    h[ int( Nf / 2) ] = 1\n",
    "    h[ 1 : int(Nf / 2) ] = 2\n",
    "\n",
    "    #RDs = np.fft.ifft( np.fft.fftshift( RD ) )\n",
    "    RDs = np.fft.ifft( RD )\n",
    "\n",
    "    RDh = RDs * h\n",
    "\n",
    "    #RDc = np.fft.fftshift( np.fft.fft( RDh ) )\n",
    "    RDc = np.fft.fft( RDh )\n",
    "\n",
    "    return RDc[::2]"
   ]
  },
  {
   "cell_type": "markdown",
   "metadata": {},
   "source": [
    "## Compare RD_realtocomp and RD_realtocomp2"
   ]
  },
  {
   "cell_type": "code",
   "execution_count": 30,
   "metadata": {},
   "outputs": [],
   "source": [
    "teta = np.arange( -10*np.pi, 10*np.pi, np.pi/10 )\n",
    "phi0 = 30 * 180 / np.pi\n",
    "y = teta\n",
    "as_y = RD_realtocomp( y )\n",
    "as_y2 = RD_realtocomp2( y )\n",
    "fft_y = np.fft.fft( y )"
   ]
  },
  {
   "cell_type": "code",
   "execution_count": 31,
   "metadata": {},
   "outputs": [
    {
     "data": {
      "text/plain": [
       "((100,), (100,))"
      ]
     },
     "execution_count": 31,
     "metadata": {},
     "output_type": "execute_result"
    }
   ],
   "source": [
    "as_y.shape, as_y2.shape"
   ]
  },
  {
   "cell_type": "code",
   "execution_count": 46,
   "metadata": {},
   "outputs": [
    {
     "data": {
      "text/plain": [
       "<matplotlib.legend.Legend at 0x7f981b9da390>"
      ]
     },
     "execution_count": 46,
     "metadata": {},
     "output_type": "execute_result"
    }
   ],
   "source": [
    "plt.figure()\n",
    "\n",
    "plt.subplot(121)\n",
    "plt.plot( np.real( np.fft.fft( as_y ) ), \"D-\", label=\"as_y  (RD_realtocomp)\" )\n",
    "plt.plot( np.real( np.fft.fft( as_y2 ) ), '.-', label=\"as2_y ( (RD_realtocomp2)\" )\n",
    "plt.plot( np.real( fft_y ), label=\"fft( y )\" )\n",
    "plt.grid()\n",
    "plt.legend()\n",
    "\n",
    "plt.subplot(122)\n",
    "plt.plot( np.imag( np.fft.fft( as_y ) ), \"D-\", label=\"as_y  (RD_realtocomp)\" )\n",
    "plt.plot( np.imag( np.fft.fft( as_y2 ) ), '.-', label=\"as2_y ( (RD_realtocomp2)\" )\n",
    "plt.plot( np.imag( fft_y ), label=\"fft( y )\" )\n",
    "plt.grid()\n",
    "plt.legend()"
   ]
  },
  {
   "cell_type": "markdown",
   "metadata": {},
   "source": [
    "## Compute the analytical signal using the Hilbert transform"
   ]
  },
  {
   "cell_type": "code",
   "execution_count": 33,
   "metadata": {},
   "outputs": [],
   "source": [
    "def as2( y ):\n",
    "    return signal.hilbert( y ) / 2"
   ]
  },
  {
   "cell_type": "code",
   "execution_count": 34,
   "metadata": {},
   "outputs": [],
   "source": [
    "def as3( y ):\n",
    "    fft_y = np.fft.fftshift( np.fft.fft( y ) )\n",
    "    nbPoints = y.shape[0]\n",
    "    nbPoints2 = int( nbPoints / 2 )\n",
    "    fft_as_y = np.zeros( (nbPoints,), dtype=complex )\n",
    "    fft_as_y[0] = fft_y[0]\n",
    "    fft_as_y[ 1 : nbPoints2 ] = 2 * fft_y[ 1 : nbPoints2 ]\n",
    "    fft_as_y[0] = fft_y[0]\n",
    "    fft_as_y[nbPoints2] = fft_y[nbPoints2]\n",
    "    return np.fft.ifft( np.fft.ifftshift( fft_as_y ) ) / 2"
   ]
  },
  {
   "cell_type": "code",
   "execution_count": 41,
   "metadata": {},
   "outputs": [],
   "source": [
    "def as4( y ):\n",
    "    fft_y = np.fft.fft( y )\n",
    "    nbPoints = y.shape[0]\n",
    "    nbPoints2 = int( nbPoints / 2 )\n",
    "    fft_as_y = np.zeros( (nbPoints,), dtype=complex )\n",
    "    fft_as_y[0] = fft_y[0]\n",
    "    fft_as_y[ 1 : nbPoints2 ] = 2 * fft_y[ 1 : nbPoints2 ]\n",
    "    fft_as_y[0] = fft_y[0]\n",
    "    fft_as_y[nbPoints2] = fft_y[nbPoints2]\n",
    "    return np.fft.ifft( fft_as_y ) / 2"
   ]
  },
  {
   "cell_type": "code",
   "execution_count": 42,
   "metadata": {},
   "outputs": [],
   "source": [
    "teta = np.arange( -10*np.pi, 10*np.pi, np.pi/10 )\n",
    "phi0 = 30 * 180 / np.pi\n",
    "y = np.cos(teta - phi0) + np.cos( 2 * teta - phi0)\n",
    "y = teta\n",
    "expy = np.exp(1j * (teta-phi0) ) / 2\n",
    "as_y = RD_realtocomp2( y )\n",
    "as2_y = as2( y )\n",
    "as3_y = as3( y )[::2]*2\n",
    "as4_y = as4( y )[::2]*2\n",
    "fft_y = np.fft.fft( y )\n",
    "fft_expy = np.fft.fft( expy )"
   ]
  },
  {
   "cell_type": "code",
   "execution_count": 47,
   "metadata": {},
   "outputs": [],
   "source": [
    "plt.figure()\n",
    "\n",
    "plt.subplot(121)\n",
    "plt.plot( np.real( np.fft.fft( as3_y ) ), \"D-\", label=\"as3_y\" )\n",
    "plt.plot( np.real( np.fft.fft( as3_y ) ), \"D-\", label=\"as4_y\" )\n",
    "plt.plot( np.real( np.fft.fft( as2_y ) ), '.-', label=\"as2_y (hilbert)\" )\n",
    "plt.plot( np.real( np.fft.fft( as_y ) ), \"x-\", label=\"as_y (RD_realtocomp)\", color=\"yellow\" )\n",
    "plt.plot( np.real( fft_y ), label=\"fft_y\" )\n",
    "plt.grid()\n",
    "plt.legend()\n",
    "\n",
    "plt.subplot(122)\n",
    "plt.plot( np.imag( np.fft.fft( as3_y ) ), \"D-\" )\n",
    "plt.plot( np.imag( np.fft.fft( as4_y ) ), \"D-\" )\n",
    "plt.plot( np.imag( np.fft.fft( as2_y ) ), '.-' )\n",
    "plt.plot( np.imag( np.fft.fft( as_y ) ), \"x-\", color=\"yellow\" )\n",
    "plt.plot( np.imag( fft_y ) )\n",
    "plt.grid()"
   ]
  },
  {
   "cell_type": "code",
   "execution_count": null,
   "metadata": {},
   "outputs": [],
   "source": []
  }
 ],
 "metadata": {
  "kernelspec": {
   "display_name": "Python 3",
   "language": "python",
   "name": "python3"
  },
  "language_info": {
   "codemirror_mode": {
    "name": "ipython",
    "version": 3
   },
   "file_extension": ".py",
   "mimetype": "text/x-python",
   "name": "python",
   "nbconvert_exporter": "python",
   "pygments_lexer": "ipython3",
   "version": "3.6.3"
  }
 },
 "nbformat": 4,
 "nbformat_minor": 2
}
